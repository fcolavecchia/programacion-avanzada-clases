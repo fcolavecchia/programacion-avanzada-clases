{
 "cells": [
  {
   "cell_type": "markdown",
   "metadata": {},
   "source": [
    "Reemplace la funciones `.sleep(3)` en las tres versiones distintas de `spinner.py` con el un llamado a la función siguiente\n",
    "\n",
    "```python\n",
    "import math\n",
    "\n",
    "def is_prime(n: int) -> bool:\n",
    "    if n < 2:\n",
    "        return False\n",
    "    if n == 2:\n",
    "        return True\n",
    "    if n % 2 == 0:\n",
    "        return False\n",
    "\n",
    "    root = math.isqrt(n)\n",
    "    for i in range(3, root + 1, 2):\n",
    "        if n % i == 0:\n",
    "            return False\n",
    "    return True\n",
    "```\n",
    "\n",
    "con el valor `n = 100_000_000_000_000_003`. \n",
    "\n",
    "Explique qué sucede en cada caso.\n",
    "\n"
   ]
  }
 ],
 "metadata": {
  "language_info": {
   "name": "python"
  }
 },
 "nbformat": 4,
 "nbformat_minor": 2
}
