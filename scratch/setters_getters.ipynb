{
 "cells": [
  {
   "cell_type": "code",
   "execution_count": null,
   "metadata": {},
   "outputs": [],
   "source": [
    "class Ejemplo:\n",
    "    def __init__(self):\n",
    "        self._valor = 0  # Atributo privado (por convención)\n",
    "    \n",
    "    @property\n",
    "    def valor(self):\n",
    "        \"\"\"Este es el getter\"\"\"\n",
    "        print(\"Obteniendo valor\")\n",
    "        return self._valor\n",
    "    \n",
    "    @valor.setter\n",
    "    def valor(self, nuevo_valor):\n",
    "        \"\"\"Este es el setter\"\"\"\n",
    "        print(\"Estableciendo valor\")\n",
    "        if nuevo_valor < 0:\n",
    "            raise ValueError(\"El valor no puede ser negativo\")\n",
    "        self._valor = nuevo_valor\n",
    "    \n",
    "    @valor.deleter\n",
    "    def valor(self):\n",
    "        \"\"\"Este es el deleter (opcional)\"\"\"\n",
    "        print(\"Eliminando valor\")\n",
    "        del self._valor"
   ]
  },
  {
   "cell_type": "code",
   "execution_count": null,
   "metadata": {},
   "outputs": [],
   "source": [
    "ej = Ejemplo()\n",
    "ej.valor = 10\n",
    "print(f\"ej.valor: {ej.valor}\")\n",
    "# No recomendado\n",
    "ej._valor = 11 \n",
    "print(f\"ej.valor: {ej.valor}\")\n"
   ]
  },
  {
   "cell_type": "code",
   "execution_count": 2,
   "metadata": {},
   "outputs": [],
   "source": [
    "class Ejemplo2:\n",
    "    def __init__(self):\n",
    "        self.__valor = 0  # Atributo privado (por convención)\n",
    "    \n",
    "    @property\n",
    "    def valor(self):\n",
    "        \"\"\"Este es el getter\"\"\"\n",
    "        print(\"Obteniendo valor\")\n",
    "        return self.__valor\n",
    "    \n",
    "    @valor.setter\n",
    "    def valor(self, nuevo_valor):\n",
    "        \"\"\"Este es el setter\"\"\"\n",
    "        print(\"Estableciendo valor\")\n",
    "        if nuevo_valor < 0:\n",
    "            raise ValueError(\"El valor no puede ser negativo\")\n",
    "        self.__valor = nuevo_valor\n",
    "    \n",
    "    @valor.deleter\n",
    "    def valor(self):\n",
    "        \"\"\"Este es el deleter (opcional)\"\"\"\n",
    "        print(\"Eliminando valor\")\n",
    "        del self.__valor"
   ]
  },
  {
   "cell_type": "code",
   "execution_count": 7,
   "metadata": {},
   "outputs": [],
   "source": [
    "def try_to_print(text,val):\n",
    "    try: \n",
    "        print(f\"{text}: {val}\")\n",
    "    except Exception as e:\n",
    "        print(f\"Error!!: {e}\")\n",
    "        # return e\n"
   ]
  },
  {
   "cell_type": "code",
   "execution_count": 8,
   "metadata": {},
   "outputs": [
    {
     "name": "stdout",
     "output_type": "stream",
     "text": [
      "Estableciendo valor\n",
      "Tipo ej: <class '__main__.Ejemplo2'>\n",
      "Obteniendo valor\n",
      "ej.valor: 10\n",
      "Obteniendo valor\n",
      "ej.valor: 10\n",
      "ej._valor: 11\n"
     ]
    },
    {
     "ename": "AttributeError",
     "evalue": "'Ejemplo2' object has no attribute '__valor'",
     "output_type": "error",
     "traceback": [
      "\u001b[0;31m---------------------------------------------------------------------------\u001b[0m",
      "\u001b[0;31mAttributeError\u001b[0m                            Traceback (most recent call last)",
      "Cell \u001b[0;32mIn[8], line 9\u001b[0m\n\u001b[1;32m      7\u001b[0m \u001b[38;5;28mprint\u001b[39m(\u001b[38;5;124mf\u001b[39m\u001b[38;5;124m\"\u001b[39m\u001b[38;5;124mej.valor: \u001b[39m\u001b[38;5;132;01m{\u001b[39;00mej\u001b[38;5;241m.\u001b[39mvalor\u001b[38;5;132;01m}\u001b[39;00m\u001b[38;5;124m\"\u001b[39m)\n\u001b[1;32m      8\u001b[0m \u001b[38;5;28mprint\u001b[39m(\u001b[38;5;124mf\u001b[39m\u001b[38;5;124m\"\u001b[39m\u001b[38;5;124mej._valor: \u001b[39m\u001b[38;5;132;01m{\u001b[39;00mej\u001b[38;5;241m.\u001b[39m_valor\u001b[38;5;132;01m}\u001b[39;00m\u001b[38;5;124m\"\u001b[39m)\n\u001b[0;32m----> 9\u001b[0m try_to_print(\u001b[38;5;124m\"\u001b[39m\u001b[38;5;124mej.__valor\u001b[39m\u001b[38;5;124m\"\u001b[39m, \u001b[43mej\u001b[49m\u001b[38;5;241;43m.\u001b[39;49m\u001b[43m__valor\u001b[49m)\n\u001b[1;32m     10\u001b[0m \u001b[38;5;66;03m# Mangled\u001b[39;00m\n\u001b[1;32m     11\u001b[0m \u001b[38;5;28mprint\u001b[39m(\u001b[38;5;124m\"\u001b[39m\u001b[38;5;124m--- Mangled ---\u001b[39m\u001b[38;5;124m\"\u001b[39m)\n",
      "\u001b[0;31mAttributeError\u001b[0m: 'Ejemplo2' object has no attribute '__valor'"
     ]
    }
   ],
   "source": [
    "ej = Ejemplo2()\n",
    "ej.valor = 10\n",
    "print(f\"Tipo ej: {type(ej)}\")\n",
    "print(f\"ej.valor: {ej.valor}\")\n",
    "# OJO! Creamos un nuevo atributo en la instancia ej de Ejemplo2\n",
    "ej._valor = 11 \n",
    "print(f\"ej.valor: {ej.valor}\")\n",
    "print(f\"ej._valor: {ej._valor}\")\n",
    "try_to_print(\"ej.__valor\", ej.__valor)\n",
    "# Mangled\n",
    "print(\"--- Mangled ---\")\n",
    "ej._Ejemplo2__valor = 20\n",
    "print(f\"ej.valor: {ej.valor}\")\n",
    "print(f\"ej._valor: {ej._valor}\")\n",
    "try_to_print(\"ej.__valor\", ej.__valor)\n"
   ]
  },
  {
   "cell_type": "markdown",
   "metadata": {},
   "source": [
    "Ah, I see the issue now! The problem lies in how Python handles private attributes (those prefixed with __). When you try to access ej.__valor, Python performs name mangling, which transforms __valor into _Ejemplo2__valor. This means that ej.__valor does not exist as an attribute, and attempting to access it directly raises an AttributeError.\n",
    "\n",
    "However, the try_to_print function you provided does not catch the AttributeError because the exception is raised before the try block is executed. Specifically, the error occurs when Python tries to evaluate ej.__valor as an argument to the try_to_print function. Since this happens outside the try block, the exception is not caught."
   ]
  },
  {
   "cell_type": "code",
   "execution_count": 12,
   "metadata": {},
   "outputs": [
    {
     "name": "stdout",
     "output_type": "stream",
     "text": [
      "Obteniendo valor\n",
      "ej.valor: 10\n",
      "Error!!: 'Ejemplo2' object has no attribute '__valor'\n"
     ]
    }
   ],
   "source": [
    "def try_to_print_ok(text, get_value_func):\n",
    "    try:\n",
    "        value = get_value_func()  # Call the function to get the value\n",
    "        print(f\"{text}: {value}\")\n",
    "    except Exception as e:\n",
    "        print(f\"Error!!: {e}\")\n",
    "\n",
    "try_to_print_ok(\"ej.valor\", lambda: ej.valor)\n",
    "try_to_print_ok(\"ej.__valor\", lambda: ej.__valor)\n"
   ]
  },
  {
   "cell_type": "code",
   "execution_count": 6,
   "metadata": {},
   "outputs": [
    {
     "name": "stdout",
     "output_type": "stream",
     "text": [
      "name: John\n",
      "Error accessing 'address': 'address'\n",
      "Error accessing 'anything': 'NoneType' object is not subscriptable\n"
     ]
    }
   ],
   "source": [
    "def print_safe(value_dict, key):\n",
    "    \"\"\"\n",
    "    Prints a value from a dictionary, or catches the exception if the key doesn't exist.\n",
    "    \n",
    "    Args:\n",
    "        value_dict (dict): Dictionary containing the values\n",
    "        key: The key to look up in the dictionary\n",
    "    \"\"\"\n",
    "    try:\n",
    "        print(f\"{key}: {value_dict[key]}\")\n",
    "    except (KeyError, TypeError) as e:\n",
    "        print(f\"Error accessing '{key}': {e}\")\n",
    "\n",
    "# Example usage\n",
    "my_dict = {\"name\": \"John\", \"age\": 30}\n",
    "\n",
    "print_safe(my_dict, \"name\")     # Prints: name: John\n",
    "print_safe(my_dict, \"address\")  # Prints: Error accessing 'address': 'address'\n",
    "print_safe(None, \"anything\")    # Prints: Error accessing 'anything': 'NoneType' object is not subscriptable"
   ]
  }
 ],
 "metadata": {
  "kernelspec": {
   "display_name": "clases",
   "language": "python",
   "name": "python3"
  },
  "language_info": {
   "codemirror_mode": {
    "name": "ipython",
    "version": 3
   },
   "file_extension": ".py",
   "mimetype": "text/x-python",
   "name": "python",
   "nbconvert_exporter": "python",
   "pygments_lexer": "ipython3",
   "version": "3.12.2"
  }
 },
 "nbformat": 4,
 "nbformat_minor": 2
}
