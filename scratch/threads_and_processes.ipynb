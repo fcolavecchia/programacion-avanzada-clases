{
 "cells": [
  {
   "cell_type": "code",
   "execution_count": 1,
   "metadata": {},
   "outputs": [],
   "source": [
    "import os\n",
    "import threading"
   ]
  },
  {
   "cell_type": "code",
   "execution_count": 2,
   "metadata": {},
   "outputs": [
    {
     "name": "stdout",
     "output_type": "stream",
     "text": [
      "Python process running with process id: 83800\n",
      "Python is currently running 7 thread(s)\n",
      "The current thread is MainThread\n"
     ]
    }
   ],
   "source": [
    "print(f'Python process running with process id: {os.getpid()}')\n",
    "total_threads = threading.active_count()\n",
    "thread_name = threading.current_thread().name\n",
    " \n",
    "print(f'Python is currently running {total_threads} thread(s)')\n",
    "print(f'The current thread is {thread_name}')"
   ]
  },
  {
   "cell_type": "code",
   "execution_count": 3,
   "metadata": {},
   "outputs": [
    {
     "name": "stdout",
     "output_type": "stream",
     "text": [
      "Hello from thread <Thread(Thread-7 (hello_from_thread), started 123145426575360)>!Python is currently running 8 thread(s)\n",
      "The current thread is MainThread\n",
      "\n"
     ]
    }
   ],
   "source": [
    "def hello_from_thread():\n",
    "    print(f'Hello from thread {threading.current_thread()}!')\n",
    " \n",
    " \n",
    "hello_thread = threading.Thread(target=hello_from_thread)\n",
    "hello_thread.start()\n",
    " \n",
    "total_threads = threading.active_count()\n",
    "thread_name = threading.current_thread().name\n",
    " \n",
    "print(f'Python is currently running {total_threads} thread(s)')\n",
    "print(f'The current thread is {thread_name}')\n",
    " \n",
    "hello_thread.join()"
   ]
  },
  {
   "cell_type": "markdown",
   "metadata": {},
   "source": [
    "GIL es particular para cada proceso.\n",
    "\n",
    "“The global interpreter lock, abbreviated GIL and pronounced gill, is a controversial topic in the Python community. Briefly, the GIL prevents one Python process from executing more than one Python bytecode instruction at any given time. This means that even if we have multiple threads on a machine with multiple cores, a Python process can have only one thread running Python code at a time. In a world where we have CPUs with multiple cores, this can pose a significant challenge for Python developers looking to take advantage of multithreading to improve the performance of their application.\n",
    "\n",
    "  Note Multiprocessing can run multiple bytecode instructions concurrently because each Python process has its own GIL.”\n",
    "\n",
    "Excerpt From\n",
    "Python Concurrency with asyncio\n",
    "Matthew Fowler\n",
    "This material may be protected by copyright."
   ]
  },
  {
   "cell_type": "markdown",
   "metadata": {},
   "source": [
    "Fibonacci secuencial"
   ]
  },
  {
   "cell_type": "code",
   "execution_count": 4,
   "metadata": {},
   "outputs": [
    {
     "name": "stdout",
     "output_type": "stream",
     "text": [
      "fib(40) is 63245986\n",
      "fib(41) is 102334155\n",
      "Completed in 42.5858 seconds.\n"
     ]
    }
   ],
   "source": [
    "import time\n",
    " \n",
    "def print_fib(number: int) -> None:\n",
    "    def fib(n: int) -> int:\n",
    "        if n == 1:\n",
    "            return 0\n",
    "        elif n == 2:\n",
    "            return 1\n",
    "        else:\n",
    "            return fib(n - 1) + fib(n - 2)\n",
    " \n",
    "    print(f'fib({number}) is {fib(number)}')\n",
    " \n",
    " \n",
    "def fibs_no_threading():\n",
    "    print_fib(40)\n",
    "    print_fib(41)\n",
    " \n",
    " \n",
    "start = time.time()\n",
    " \n",
    "fibs_no_threading()\n",
    " \n",
    "end = time.time()\n",
    " \n",
    "print(f'Completed in {end - start:.4f} seconds.')"
   ]
  },
  {
   "cell_type": "code",
   "execution_count": 5,
   "metadata": {},
   "outputs": [
    {
     "name": "stdout",
     "output_type": "stream",
     "text": [
      "fib(40) is 63245986\n",
      "fib(41) is 102334155\n",
      "Threads took 42.9687 seconds.\n"
     ]
    }
   ],
   "source": [
    "def fibs_with_threads():\n",
    "    fortieth_thread = threading.Thread(target=print_fib, args=(40,))\n",
    "    forty_first_thread = threading.Thread(target=print_fib, args=(41,))\n",
    " \n",
    "    fortieth_thread.start()\n",
    "    forty_first_thread.start()\n",
    " \n",
    "    fortieth_thread.join()\n",
    "    forty_first_thread.join()\n",
    " \n",
    " \n",
    "start_threads = time.time()\n",
    " \n",
    "fibs_with_threads()\n",
    " \n",
    "end_threads = time.time()\n",
    " \n",
    "print(f'Threads took {end_threads - start_threads:.4f} seconds.')"
   ]
  },
  {
   "cell_type": "markdown",
   "metadata": {},
   "source": [
    "“The global interpreter lock is released when I/O operations happen. This lets us employ threads to do concurrent work when it comes to I/O, but not for CPU-bound Python code itself (there are some notable exceptions that release the GIL for CPU-bound work in certain circumstances, and we’ll look at these in a later chapter).”\n",
    "\n",
    "Excerpt From\n",
    "Python Concurrency with asyncio\n",
    "Matthew Fowler\n",
    "This material may be protected by copyright."
   ]
  },
  {
   "cell_type": "code",
   "execution_count": 7,
   "metadata": {},
   "outputs": [
    {
     "name": "stdout",
     "output_type": "stream",
     "text": [
      "200\n",
      "200\n",
      "Running synchronously took 0.2982 seconds.\n"
     ]
    }
   ],
   "source": [
    "import requests\n",
    " \n",
    " \n",
    "def read_example() -> None:\n",
    "    response = requests.get('https://www.example.com')\n",
    "    print(response.status_code)\n",
    " \n",
    " \n",
    "sync_start = time.time()\n",
    " \n",
    "read_example()\n",
    "read_example()\n",
    " \n",
    "sync_end = time.time()\n",
    " \n",
    "print(f'Running synchronously took {sync_end - sync_start:.4f} seconds.')"
   ]
  },
  {
   "cell_type": "code",
   "execution_count": 11,
   "metadata": {},
   "outputs": [
    {
     "name": "stdout",
     "output_type": "stream",
     "text": [
      "All threads running!\n",
      "200\n",
      "200\n",
      "Running with threads took 0.1283 seconds.\n"
     ]
    }
   ],
   "source": [
    "thread_1 = threading.Thread(target=read_example)\n",
    "thread_2 = threading.Thread(target=read_example)\n",
    " \n",
    "thread_start = time.time()\n",
    " \n",
    "thread_1.start()\n",
    "thread_2.start()\n",
    " \n",
    "print('All threads running!')\n",
    " \n",
    "thread_1.join()\n",
    "thread_2.join()\n",
    " \n",
    "thread_end = time.time()\n",
    " \n",
    "print(f'Running with threads took {thread_end - thread_start:.4f} seconds.')"
   ]
  },
  {
   "cell_type": "markdown",
   "metadata": {},
   "source": [
    "[Python Concurrency Learning Paths](https://superfastpython.com/learning-paths/#Asyncio_Learning_Path)"
   ]
  }
 ],
 "metadata": {
  "kernelspec": {
   "display_name": ".venv",
   "language": "python",
   "name": "python3"
  },
  "language_info": {
   "codemirror_mode": {
    "name": "ipython",
    "version": 3
   },
   "file_extension": ".py",
   "mimetype": "text/x-python",
   "name": "python",
   "nbconvert_exporter": "python",
   "pygments_lexer": "ipython3",
   "version": "3.11.5"
  }
 },
 "nbformat": 4,
 "nbformat_minor": 2
}
