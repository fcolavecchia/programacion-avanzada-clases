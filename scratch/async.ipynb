{
 "cells": [
  {
   "cell_type": "code",
   "execution_count": 2,
   "metadata": {},
   "outputs": [
    {
     "name": "stdout",
     "output_type": "stream",
     "text": [
      "Task A started\n",
      "Task B started\n",
      "Task C started\n",
      "Task C finished after 1 seconds\n",
      "Task A finished after 2 seconds\n",
      "Task B finished after 3 seconds\n"
     ]
    }
   ],
   "source": [
    "import asyncio\n",
    "\n",
    "async def task(name, delay):\n",
    "    print(f\"Task {name} started\")\n",
    "    await asyncio.sleep(delay)  # Simulates I/O without blocking\n",
    "    print(f\"Task {name} finished after {delay} seconds\")\n",
    "\n",
    "async def main():\n",
    "    await asyncio.gather(task(\"A\", 2), task(\"B\", 3), task(\"C\", 1))  # Runs tasks concurrently\n",
    "\n",
    "await main()\n"
   ]
  },
  {
   "cell_type": "code",
   "execution_count": 3,
   "metadata": {},
   "outputs": [
    {
     "name": "stdout",
     "output_type": "stream",
     "text": [
      "Task A started\n",
      "Task B started\n",
      "Task C started\n",
      "Task C finished after 1 seconds\n",
      "Task A finished after 2 seconds\n",
      "Task B finished after 3 seconds\n"
     ]
    }
   ],
   "source": [
    "await main()"
   ]
  },
  {
   "cell_type": "code",
   "execution_count": 24,
   "metadata": {},
   "outputs": [],
   "source": [
    "\n",
    "async def suma_global(name, delay):\n",
    "    global suma \n",
    "\n",
    "    print(f\"Task {name} started\")\n",
    "    suma = suma + delay\n",
    "    await asyncio.sleep(delay)  # Simulates I/O without blocking\n",
    "\n",
    "    print(f\"Task {name} Suma: {suma}\")\n",
    "    print(f\"Task {name} finished after {delay} seconds\")\n"
   ]
  },
  {
   "cell_type": "code",
   "execution_count": 25,
   "metadata": {},
   "outputs": [
    {
     "name": "stdout",
     "output_type": "stream",
     "text": [
      "Task A started\n",
      "Task B started\n",
      "Task C started\n",
      "Task C Suma: 6\n",
      "Task C finished after 1 seconds\n",
      "Task A Suma: 6\n",
      "Task A finished after 2 seconds\n",
      "Task B Suma: 6\n",
      "Task B finished after 3 seconds\n"
     ]
    }
   ],
   "source": [
    "suma = 0\n",
    "\n",
    "\n",
    "async def main():\n",
    "    await asyncio.gather(suma_global(\"A\", 2), suma_global(\"B\", 3), suma_global(\"C\", 1))  # Runs tasks concurrently\n",
    "\n",
    "await main()"
   ]
  },
  {
   "cell_type": "code",
   "execution_count": 28,
   "metadata": {},
   "outputs": [],
   "source": [
    "\n",
    "async def suma_global(name, delay):\n",
    "    global suma \n",
    "\n",
    "    print(f\"Task {name} started\")\n",
    "    await asyncio.sleep(delay)  # Simulates I/O without blocking\n",
    "\n",
    "    suma = suma + delay\n",
    "\n",
    "    print(f\"Task {name} Suma: {suma}\")\n",
    "    print(f\"Task {name} finished after {delay} seconds\")\n",
    "    return suma\n"
   ]
  },
  {
   "cell_type": "code",
   "execution_count": 29,
   "metadata": {},
   "outputs": [
    {
     "name": "stdout",
     "output_type": "stream",
     "text": [
      "Task A started\n",
      "Task B started\n",
      "Task C started\n",
      "Task C Suma: 1\n",
      "Task C finished after 1 seconds\n",
      "Task A Suma: 3\n",
      "Task A finished after 2 seconds\n",
      "Task B Suma: 6\n",
      "Task B finished after 3 seconds\n"
     ]
    }
   ],
   "source": [
    "suma = 0\n",
    "\n",
    "async def main():\n",
    "    await asyncio.gather(suma_global(\"A\", 2), suma_global(\"B\", 3), suma_global(\"C\", 1))  # Runs tasks concurrently\n",
    "\n",
    "await main()"
   ]
  },
  {
   "cell_type": "code",
   "execution_count": 31,
   "metadata": {},
   "outputs": [
    {
     "name": "stdout",
     "output_type": "stream",
     "text": [
      "Task A started\n",
      "Task B started\n",
      "Task C started\n",
      "Task C Suma: 1\n",
      "Task C finished after 1 seconds\n",
      "Task A Suma: 3\n",
      "Task A finished after 2 seconds\n",
      "Task B Suma: 6\n",
      "Task B finished after 3 seconds\n",
      "3 6 1\n"
     ]
    }
   ],
   "source": [
    "suma = 0\n",
    "\n",
    "async def main():\n",
    "    suma_A, suma_B, suma_C = await asyncio.gather(suma_global(\"A\", 2), suma_global(\"B\", 3), suma_global(\"C\", 1))  # Runs tasks concurrently\n",
    "    return suma_A, suma_B, suma_C\n",
    "\n",
    "a,b,c = await main()\n",
    "print(a,b,c)"
   ]
  },
  {
   "cell_type": "code",
   "execution_count": 32,
   "metadata": {},
   "outputs": [
    {
     "name": "stdout",
     "output_type": "stream",
     "text": [
      "Task B started\n",
      "Task A started\n",
      "Task C started\n",
      "Task C Suma: 1\n",
      "Task C finished after 1 seconds\n",
      "Task A Suma: 3\n",
      "Task A finished after 2 seconds\n",
      "Task B Suma: 6\n",
      "Task B finished after 3 seconds\n",
      "3 6 1\n"
     ]
    }
   ],
   "source": [
    "suma = 0\n",
    "\n",
    "async def main():\n",
    "    suma_B, suma_A, suma_C = await asyncio.gather(suma_global(\"B\", 3), suma_global(\"A\", 2), suma_global(\"C\", 1))  # Runs tasks concurrently\n",
    "    return suma_A, suma_B, suma_C\n",
    "\n",
    "a,b,c = await main()\n",
    "print(a,b,c)"
   ]
  }
 ],
 "metadata": {
  "kernelspec": {
   "display_name": ".venv",
   "language": "python",
   "name": "python3"
  },
  "language_info": {
   "codemirror_mode": {
    "name": "ipython",
    "version": 3
   },
   "file_extension": ".py",
   "mimetype": "text/x-python",
   "name": "python",
   "nbconvert_exporter": "python",
   "pygments_lexer": "ipython3",
   "version": "3.11.5"
  }
 },
 "nbformat": 4,
 "nbformat_minor": 2
}
