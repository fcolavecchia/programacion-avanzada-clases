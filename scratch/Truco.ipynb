{
 "cells": [
  {
   "cell_type": "code",
   "execution_count": 13,
   "metadata": {},
   "outputs": [
    {
     "name": "stdout",
     "output_type": "stream",
     "text": [
      "['As', '2', '3', '4', '5', '6', '7', 'Sota', 'Caballo', 'Rey']\n"
     ]
    }
   ],
   "source": [
    "valores = list(range(1, 8)) + [10,11,12]\n",
    "valores = [str(x) for x in valores]\n",
    "\n",
    "# find and replace\n",
    "valores[0] = 'As'\n",
    "valores[7] = 'Sota' \n",
    "valores[8] = 'Caballo'\n",
    "valores[9] = 'Rey'\n",
    "print(valores)\n"
   ]
  },
  {
   "cell_type": "code",
   "execution_count": 14,
   "metadata": {},
   "outputs": [
    {
     "name": "stdout",
     "output_type": "stream",
     "text": [
      "[('As', 'Espada'), ('As', 'Bastos'), ('As', 'Oro'), ('As', 'Copa'), ('2', 'Espada'), ('2', 'Bastos'), ('2', 'Oro'), ('2', 'Copa'), ('3', 'Espada'), ('3', 'Bastos'), ('3', 'Oro'), ('3', 'Copa'), ('4', 'Espada'), ('4', 'Bastos'), ('4', 'Oro'), ('4', 'Copa'), ('5', 'Espada'), ('5', 'Bastos'), ('5', 'Oro'), ('5', 'Copa'), ('6', 'Espada'), ('6', 'Bastos'), ('6', 'Oro'), ('6', 'Copa'), ('7', 'Espada'), ('7', 'Bastos'), ('7', 'Oro'), ('7', 'Copa'), ('Sota', 'Espada'), ('Sota', 'Bastos'), ('Sota', 'Oro'), ('Sota', 'Copa'), ('Caballo', 'Espada'), ('Caballo', 'Bastos'), ('Caballo', 'Oro'), ('Caballo', 'Copa'), ('Rey', 'Espada'), ('Rey', 'Bastos'), ('Rey', 'Oro'), ('Rey', 'Copa')]\n"
     ]
    }
   ],
   "source": [
    "palos = ['Espada','Bastos','Oro','Copa']\n",
    "mazo = [(x,y) for x in valores for y in palos]\n",
    "print(mazo)"
   ]
  },
  {
   "cell_type": "code",
   "execution_count": 15,
   "metadata": {},
   "outputs": [
    {
     "name": "stdout",
     "output_type": "stream",
     "text": [
      "('6', 'Copa')\n",
      "[('Rey', 'Copa'), ('3', 'Espada'), ('As', 'Espada')]\n"
     ]
    }
   ],
   "source": [
    "from random import choice\n",
    "print(choice(mazo))\n",
    "\n",
    "mano = [choice(mazo) for x in range(3)]\n",
    "print(mano)"
   ]
  },
  {
   "cell_type": "code",
   "execution_count": 16,
   "metadata": {},
   "outputs": [],
   "source": [
    "def envido(mano):\n",
    "    valores = [x[0] for x in mano]\n",
    "    palos = [x[1] for x in mano]\n",
    "    if len(set(palos)) == 1:\n",
    "        return 20 + sum([valores.count(x) for x in ['Rey','Caballo','Sota','Siete','Seis','Cinco','Cuatro','Tres','Dos','As']])\n",
    "    else:\n",
    "        return max([sum([valores.count(x) for x in valores]), sum([valores.count(x) for x in ['Rey','Caballo','Sota']])])"
   ]
  },
  {
   "cell_type": "code",
   "execution_count": 21,
   "metadata": {},
   "outputs": [
    {
     "name": "stdout",
     "output_type": "stream",
     "text": [
      "{'Copa': ['Rey'], 'Espada': ['3', 'As']}\n"
     ]
    }
   ],
   "source": [
    "mano1 = [('Rey', 'Copa'), ('3', 'Espada'), ('As', 'Espada')]\n",
    "# agrupar por palo\n",
    "grouped = {palo: [card for card, suit in mano1 if suit == palo] for palo in set(suit for card, suit in mano1)}\n",
    "print(grouped)"
   ]
  },
  {
   "cell_type": "code",
   "execution_count": 27,
   "metadata": {},
   "outputs": [
    {
     "name": "stdout",
     "output_type": "stream",
     "text": [
      "{'Copa': ['Rey'], 'Espada': ['3', 'As']}\n",
      "{'Copa', 'Espada'}\n"
     ]
    }
   ],
   "source": [
    "grouped = {palo: [card for (card, p) in mano1 if p == palo] for (v,palo) in mano1}\n",
    "print(grouped)\n",
    "print(set(grouped.keys()))"
   ]
  },
  {
   "cell_type": "code",
   "execution_count": 40,
   "metadata": {},
   "outputs": [],
   "source": [
    "def valor_carta(carta):\n",
    "    if carta in ['Rey','Caballo','Sota']:\n",
    "        return 0\n",
    "    else:\n",
    "        return valores.index(carta) + 1"
   ]
  },
  {
   "cell_type": "code",
   "execution_count": 42,
   "metadata": {},
   "outputs": [],
   "source": [
    "def suma_envido(valores):\n",
    "    print(valores)\n",
    "    v = sum([ valor_carta(x) for x in valores])\n",
    "    return 20 + v \n",
    "    "
   ]
  },
  {
   "cell_type": "code",
   "execution_count": 57,
   "metadata": {},
   "outputs": [
    {
     "name": "stdout",
     "output_type": "stream",
     "text": [
      "['As', '5', '7']\n"
     ]
    },
    {
     "data": {
      "text/plain": [
       "33"
      ]
     },
     "execution_count": 57,
     "metadata": {},
     "output_type": "execute_result"
    }
   ],
   "source": [
    "suma_envido(['As','5','7'])"
   ]
  },
  {
   "cell_type": "code",
   "execution_count": 71,
   "metadata": {},
   "outputs": [],
   "source": [
    "def agrupa_por_palo(mano):\n",
    "    return {palo: [card for (card, p) in mano if p == palo] for (v,palo) in mano}"
   ]
  },
  {
   "cell_type": "code",
   "execution_count": 73,
   "metadata": {},
   "outputs": [],
   "source": [
    "\n",
    "def envido(mano):\n",
    "\n",
    "    grouped = agrupa_por_palo(mano)\n",
    "    print(grouped)\n",
    "    palos_distintos = len(set(grouped.keys()))\n",
    "\n",
    "    if palos_distintos == 3:\n",
    "        print(f'No tenés nada!!: {max(grouped.values())}')\n",
    "        puntos = max([valor_carta(x) for x in grouped.values()])\n",
    "    elif palos_distintos == 2:\n",
    "        # find the key that has 2 values\n",
    "        key = [k for k,v in grouped.items() if len(v) >= 2][0]\n",
    "        print(f'Tenes un par de {key}: {grouped[key]}')\n",
    "        puntos = suma_envido(grouped[key])\n",
    "        print(f'{grouped.values()}: Envido de {puntos}')\n",
    "    else:\n",
    "        print(f'Tenes una flor!')\n",
    "        puntos = \"Flor!!\"\n",
    "        \n",
    "    return puntos \n"
   ]
  },
  {
   "cell_type": "code",
   "execution_count": 74,
   "metadata": {},
   "outputs": [
    {
     "name": "stdout",
     "output_type": "stream",
     "text": [
      "{'Copa': ['Rey'], 'Espada': ['3', 'As']}\n",
      "Tenes un par de Espada: ['3', 'As']\n",
      "['3', 'As']\n",
      "dict_values([['Rey'], ['3', 'As']]): Envido de 24\n",
      "24\n"
     ]
    }
   ],
   "source": [
    "print(envido(mano1))"
   ]
  },
  {
   "cell_type": "markdown",
   "metadata": {},
   "source": [
    "Cómo calcular el palo que tiene dos cartas"
   ]
  },
  {
   "cell_type": "markdown",
   "metadata": {},
   "source": [
    "Creando el diccionario de palos si tienen un largo mayor a 2:"
   ]
  },
  {
   "cell_type": "code",
   "execution_count": 85,
   "metadata": {},
   "outputs": [
    {
     "data": {
      "text/plain": [
       "'Espada'"
      ]
     },
     "execution_count": 85,
     "metadata": {},
     "output_type": "execute_result"
    }
   ],
   "source": [
    "agr = agrupa_por_palo(mano1)\n",
    "key = [k for k,v in agr.items() if len(v) >= 2][0]\n",
    "key\n"
   ]
  },
  {
   "cell_type": "markdown",
   "metadata": {},
   "source": [
    "Buscando el máximo de los valores"
   ]
  },
  {
   "cell_type": "code",
   "execution_count": 89,
   "metadata": {},
   "outputs": [
    {
     "data": {
      "text/plain": [
       "'Espada'"
      ]
     },
     "execution_count": 89,
     "metadata": {},
     "output_type": "execute_result"
    }
   ],
   "source": [
    "max(agr.items(), key=lambda x: len(x[1]))[0]"
   ]
  },
  {
   "cell_type": "markdown",
   "metadata": {},
   "source": [
    "Creando un diccionario del número de cartas de un palo dado y el palo:"
   ]
  },
  {
   "cell_type": "code",
   "execution_count": 83,
   "metadata": {},
   "outputs": [
    {
     "data": {
      "text/plain": [
       "'Espada'"
      ]
     },
     "execution_count": 83,
     "metadata": {},
     "output_type": "execute_result"
    }
   ],
   "source": [
    "{len(v):k for k,v in agr.items()}[2]"
   ]
  },
  {
   "cell_type": "code",
   "execution_count": 90,
   "metadata": {},
   "outputs": [
    {
     "name": "stdout",
     "output_type": "stream",
     "text": [
      "{'Espada': ['As', '5', '7']}\n",
      "Tenes una flor!\n",
      "Flor!!\n"
     ]
    }
   ],
   "source": [
    "mano2 = [('As', 'Espada'), ('5', 'Espada'), ('7', 'Espada')]\n",
    "print(envido(mano2))"
   ]
  },
  {
   "cell_type": "code",
   "execution_count": null,
   "metadata": {},
   "outputs": [],
   "source": [
    "print"
   ]
  }
 ],
 "metadata": {
  "kernelspec": {
   "display_name": ".venv",
   "language": "python",
   "name": "python3"
  },
  "language_info": {
   "codemirror_mode": {
    "name": "ipython",
    "version": 3
   },
   "file_extension": ".py",
   "mimetype": "text/x-python",
   "name": "python",
   "nbconvert_exporter": "python",
   "pygments_lexer": "ipython3",
   "version": "3.11.5"
  }
 },
 "nbformat": 4,
 "nbformat_minor": 2
}
