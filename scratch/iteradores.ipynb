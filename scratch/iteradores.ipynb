{
 "cells": [
  {
   "cell_type": "code",
   "execution_count": 1,
   "metadata": {},
   "outputs": [],
   "source": [
    "import math\n",
    "from typing import Iterator\n",
    "\n",
    "def pfactorsl(x: int) -> Iterator[int]:\n",
    "    if x % 2 == 0:\n",
    "        yield 2\n",
    "        if x//2 > 1:\n",
    "            yield from pfactorsl(x//2)\n",
    "        return\n",
    "    for i in range(3, int(math.sqrt(x)+.5)+1, 2):\n",
    "        if x % i == 0:\n",
    "            yield i\n",
    "            if x//i > 1:\n",
    "                yield from pfactorsl(x//i)\n",
    "            return\n",
    "    yield x"
   ]
  },
  {
   "cell_type": "code",
   "execution_count": 2,
   "metadata": {},
   "outputs": [
    {
     "data": {
      "text/plain": [
       "<generator object pfactorsl at 0x10bc5fc40>"
      ]
     },
     "execution_count": 2,
     "metadata": {},
     "output_type": "execute_result"
    }
   ],
   "source": [
    "pfactorsl(600851475143)"
   ]
  },
  {
   "cell_type": "code",
   "execution_count": 6,
   "metadata": {},
   "outputs": [],
   "source": [
    "from functools import *\n"
   ]
  },
  {
   "cell_type": "code",
   "execution_count": 7,
   "metadata": {},
   "outputs": [
    {
     "name": "stdout",
     "output_type": "stream",
     "text": [
      "[71, 839, 1471, 6857]\n",
      "600851475143\n"
     ]
    }
   ],
   "source": [
    "factors = list (pfactorsl(600851475143))\n",
    "print(factors)\n",
    "print(reduce(lambda x, y: x*y, factors))"
   ]
  }
 ],
 "metadata": {
  "kernelspec": {
   "display_name": "clases",
   "language": "python",
   "name": "python3"
  },
  "language_info": {
   "codemirror_mode": {
    "name": "ipython",
    "version": 3
   },
   "file_extension": ".py",
   "mimetype": "text/x-python",
   "name": "python",
   "nbconvert_exporter": "python",
   "pygments_lexer": "ipython3",
   "version": "3.12.2"
  }
 },
 "nbformat": 4,
 "nbformat_minor": 2
}
