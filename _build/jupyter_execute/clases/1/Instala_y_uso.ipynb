{
 "cells": [
  {
   "cell_type": "markdown",
   "id": "bdda2261",
   "metadata": {
    "collapsed": false,
    "editable": true,
    "ein.tags": "worksheet-0",
    "jupyter": {
     "outputs_hidden": false
    },
    "slideshow": {
     "slide_type": ""
    },
    "tags": []
   },
   "source": [
    "# Introducción al lenguaje\n",
    "\n",
    "## Cómo empezar: Instalación y uso\n",
    "\n",
    "**Python** es un lenguaje de programación interpretado, que se puede ejecutar sobre distintos sistemas operativos, es decir, es multiplataforma (suele usarse el término *cross-platform*). Además, la mayoría de los programas que existen (y posiblemente todos los que nosotros escribamos) pueden ejecutarse tanto en Linux como en windows y en Mac sin realizar ningún cambio.\n"
   ]
  },
  {
   "cell_type": "markdown",
   "id": "044f6813",
   "metadata": {
    "collapsed": false,
    "editable": true,
    "ein.tags": "worksheet-0",
    "jupyter": {
     "outputs_hidden": false
    },
    "slideshow": {
     "slide_type": ""
    },
    "tags": []
   },
   "source": [
    "### Instalación\n",
    "En este curso utilizaremos **Python 3**. \n",
    "\n",
    "> **Nota:** Existe una versión anterior de Python, **Python2.X** (Python 2) cuya fecha de finalización de soporte fue el 1/1/2020. Fue una una versión madura, estable, y con muchas aplicaciones, y utilidades disponibles, sin embargo ya no se desarrolla ni se corrigen los errores ni problemas de seguridad. \n",
    "\n",
    "\n",
    "La instalación [oficial](https://www.python.org/downloads/) de Python provee lo necesario para utilizar el lenguaje. Sin embargo, con el correr del tiempo, se han creado otras [muchas distribuciones de Python](https://wiki.python.org/moin/PythonDistributions) que incluyen aplicaciones y bibliotecas de uso común.\n",
    "\n",
    "> Estas distribuciones son implementaciones del lenguaje basadas en CPython, es decir, en C y Python. Existen otras implementaciones, como por ejemplo [PyPy](https://pypy.org/index.html).\n",
    "\n",
    "Para una instalación fácil de Python y los paquetes más comunes se pueden usar alguna de las distribuciones:\n",
    "\n",
    "- [Anaconda](https://www.anaconda.com/distribution).   (Linux, Windows, MacOs)\n",
    "- [ActiveState](https://www.activestate.com/products/python/)\n",
    "- [Winpython](https://winpython.github.io/).  (Windows)\n",
    "\n",
    "En este curso utilizaremos Anaconda, en su versión minimalista, [miniconda](https://docs.anaconda.com/miniconda/). La diferencia más importante es la cantidad de paquetes que instala cada distribución inicialmente. Además, Anaconda provee una aplicación (Anaconda Navigator) para el manejo de paquetes.\n",
    "\n",
    "> En el curso el manejo de paquetes se realizará mediante la línea de comando y los _ambientes_ de Python."
   ]
  },
  {
   "cell_type": "markdown",
   "id": "ec630152",
   "metadata": {},
   "source": [
    "#### Linux\n",
    "\n",
    "En la terminal,\n",
    "```bash\n",
    "mkdir -p ~/miniconda3\n",
    "wget https://repo.anaconda.com/miniconda/Miniconda3-latest-Linux-x86_64.sh -O ~/miniconda3/miniconda.sh\n",
    "bash ~/miniconda3/miniconda.sh -b -u -p ~/miniconda3\n",
    "rm ~/miniconda3/miniconda.sh\n",
    "```\n",
    "Eventualmente, en linux se podría instalar directamente todo lo necesario desde los repositorios. Por ejemplo en Ubuntu: \n",
    "```bash\n",
    "sudo apt-get install ipython3 ipython3-notebook spyder python3-matplotlib python3-numpy python3-scipy\n",
    "```\n",
    "o, en Fedora 28, en adelante:\n",
    "```bash\n",
    "sudo dnf install python3-ipython python3-notebook python3-matplotlib python3-numpy python3-scipy\n",
    "```\n",
    "Obviamente esto tiene un alcance global para todos los usuarios. Dependiendo de los casos de uso, será útil una u otra opción."
   ]
  },
  {
   "cell_type": "markdown",
   "id": "07586ec6",
   "metadata": {
    "editable": true,
    "slideshow": {
     "slide_type": ""
    },
    "tags": []
   },
   "source": [
    "#### Windows\n",
    "\n",
    "La instalación es bastante sencilla, bajando el instalador [acá](https://docs.anaconda.com/miniconda/) o usando `curl`:\n",
    "\n",
    "```cmd\n",
    "curl https://repo.anaconda.com/miniconda/Miniconda3-latest-Windows-x86_64.exe -o miniconda.exe\n",
    "start /wait \"\" .\\miniconda.exe /S\n",
    "del miniconda.exe\n",
    "```\n",
    "\n",
    "> Atención! Pueden existir problemas si el nombre del usuario en Windows contiene espacios.\n",
    "\n",
    "Una vez instalado miniconda, veremos dos nuevos acceso directos en el menú\n",
    "\n",
    "![](figuras/miniconda.png)\n",
    "\n",
    "que corresponden a los dos tipos de terminales que instala miniconda.\n",
    "\n",
    "> Por defecto, miniconda no agrega Python al PATH, por lo tanto, `python` no estará disponible en las terminales usuales (`cmd.exe` y PowerShell)"
   ]
  },
  {
   "cell_type": "markdown",
   "id": "972d886f",
   "metadata": {},
   "source": [
    "### Edición de código\n",
    "\n",
    "Como todo lenguaje, se pueden utilizar distintos editores de texto      \n",
    "\n",
    "- En windows: [Notepad++](https://notepad-plus-plus.org), [Jedit](http://www.jedit.org/), ... (no Notepad o Wordpad)\n",
    "\n",
    "- En Linux: cualquier editor de texto (gedit, geany, kate, nano, emacs, vim, ...)\n",
    "\n",
    "- En Mac: TextEdit funciona, sino TextWrangler, [JEdit](http://www.jedit.org/), ...\n",
    "\n",
    "o IDEs:    \n",
    "\n",
    "  - [Spyder](https://github.com/spyder-ide/spyder/). (IDE - También viene con Anaconda, y con Python(x,y)).\n",
    "  - [Pycharm](https://www.jetbrains.com/pycharm/). (IDE, una versión comercial y una libre, ambos con muchas funcionalidades)\n",
    "  - [Sublime Text](https://www.sublimetext.com/)\n",
    "  - [Ninja-IDE](https://ninja-ide.org/) (IDE *cross-platform*, libre)\n",
    "\n",
    "y, por supuesto, [Visual Studio Code](https://code.visualstudio.com/). Todos estos editores ofrecen plugins o extensiones para mejorar la experiencia de programación.\n",
    "\n",
    "### Documentación y ayudas\n",
    "\n",
    "Algunas fuentes de ayuda *constante* son:\n",
    "\n",
    "* [La documentación oficial de Python](https://docs.python.org/3/)\n",
    "* En particular el [Tutorial](https://docs.python.org/3/tutorial/), también [en español](http://docs.python.org.ar/tutorial/3/) y la [referencia de bibliotecas](https://docs.python.org/3/reference/index.html)\n",
    "* En una terminal, puede obtener información sobre un paquete con `pydoc <comando>`\n",
    "* En una consola interactiva de **Python**, mediante `help(<comando>)`\n",
    "* La documentación de los paquetes:\n",
    "    - [Numpy](http://docs.scipy.org/doc/numpy/user/)\n",
    "    - [Matplotlib](http://matplotlib.org), en particular la [galería](http://matplotlib.org/gallery.html)\n",
    "    - [Scipy](http://docs.scipy.org/doc/scipy/reference/)\n",
    "    - [Pandas](https://pandas.pydata.org/)\n",
    "  \n",
    "  etc.\n",
    "* Buscar \"palabras clave + python\" en un buscador. Es particularmente útil el sitio [stackoverflow](http://stackoverflow.com/)\n",
    "\n",
    "> Python es un lenguaje de tipos dinámicos, con lo cual las ayudas de los IDE pueden ser en general escasas. Veremos sin embargo en el curso algunas alternativas para poder mejorar la experiencia de programación.\n",
    "\n"
   ]
  },
  {
   "cell_type": "markdown",
   "id": "baaf426b",
   "metadata": {
    "collapsed": false,
    "ein.tags": "worksheet-0",
    "jupyter": {
     "outputs_hidden": false
    },
    "slideshow": {
     "slide_type": "-"
    }
   },
   "source": [
    "### Uso de Python: Interactivo o no\n",
    "\n",
    "\n",
    "#### Interfaces interactivas (consolas/terminales, notebooks)\n",
    "\n",
    "Hay muchas maneras de usar el lenguaje Python.  Es un lenguaje **interpretado** e **interactivo**. Si ejecutamos la consola (`cmd.exe` en windows) y luego `python`, se abrirá la consola interactiva\n",
    "\n",
    "![](figuras/console.png)\n",
    "\n",
    "En la consola interactiva podemos escribir sentencias o pequeños bloques de código que son ejecutados inmediatamente. Pero *la consola interactiva* estándar no tiene tantas características de conveniencia como otras, por ejemplo **IPython** que viene con \"accesorios de *comfort*\".\n",
    "\n",
    "![](figuras/ipython.png)\n",
    "\n",
    "La consola IPython supera a la estándar en muchos sentidos. Podemos autocompletar (`<TAB>`), ver ayuda rápida de cualquier objeto (`?`), etc. \n",
    "\n",
    "#### Programas/scripts\n",
    "Una forma muy común/poderosa de usar Python es en forma *no interactiva*, escribiendo *programas* o *scripts*. Esto es, escribir nuestro código en un archivo con extensión *.py* para luego ejecutarlo con el intérprete. Por ejemplo, podemos crear un archivo *hello.py* (al que se le llama *módulo*) con este contenido:\n",
    "\n",
    "    print(\"Hola Mundo!\")\n",
    "\n",
    "Si ejecutamos `python hello.py` o `ipython hello.py` se ejecutará el interprete Python y obtendremos el resultado esperado (impresión por pantalla de \"Hola Mundo!\", sin las comillas)\n",
    "\n",
    "\n",
    "**Python** no exige un editor específico y hay muchos modos y maneras de programar. Lo que es importante al programar en **Python** es que la *indentación* define los bloques (definición de loops, if/else, funciones, clases, etc). Por esa razón es importante que el tabulado no mezcle espacios con caracteres específicos de tabulación. La manera que recomendaría es usar siempre espacios (uno usa la tecla [TAB] pero el editor lo traduce a un número determinado de espacios).\n",
    "La indentación recomendada es de __4__ espacios (pero van a notar que yo uso **2**).\n",
    "\n",
    "Un buen editor es **Spyder** que tiene características de IDE (entorno integrado: editor + ayuda + consola interactiva). \n",
    "\n",
    "![](figuras/spyder.png)\n",
    "\n",
    "También Pycharm funciona muy bien\n",
    "\n",
    "![](figuras/pycharm.jpg)\n",
    "\n",
    "Y por supuesto, VS Code\n",
    "\n",
    "![](figuras/vscode.png)\n",
    "\n",
    "En todos los casos se puede ejecutar todo el código del archivo en la consola interactiva que incluye. Alternativamente, también se puede seleccionar **sólo** una porción del código para ejecutar.\n",
    "\n",
    "### Notebooks de Jupyter o Jupyter-Lab\n",
    "\n",
    "Para trabajar en forma interactiva es muy útil usar los *Notebooks* de Jupyter. El notebook es un entorno interactivo enriquecido. Podemos crear y editar \"celdas\" código Python que se pueden editar y volver a ejecutar, se pueden intercalar celdas de texto, fórmulas matemáticas, y hacer que los gráficos se muestren inscrutados en la misma pantalla o en ventanas separadas. Además se puede escribir texto con formato (como este que estamos viendo) con secciones, títulos.\n",
    "Estos archivos se guardan con extensión *.ipynb*, que pueden exportarse en distintos formatos tales como html (estáticos), en formato PDF, LaTeX, o como código python puro. (.py)\n",
    "\n",
    "> \n",
    "\n"
   ]
  },
  {
   "cell_type": "markdown",
   "id": "574c01f9",
   "metadata": {},
   "source": [
    "### Instalando Python interactivo\n",
    "\n",
    "Miniconda instala algunos paquetes básicos, con lo cual tenemos que ir agregándolos. Primero instalaremos `IPython`, la consola interactiva de Python. Para eso utilizamos el comando `conda`. Desde cualquiera de las terminales de Anaconda instaladas:\n",
    "\n",
    "```cmd\n",
    "conda install ipython\n",
    "```\n",
    "\n",
    "Y luego instalaremos la versión más sofisticada de Python interactivo, a través de Jupyter:\n",
    "```cmd\n",
    "conda install jupyter\n",
    "```\n",
    "\n",
    "Y obtendremos\n",
    "\n",
    "![](figuras/jupyter.png)\n",
    "\n",
    "Para usar los notebooks, simplemente cliqueamos en el nuevo acceso directo a Jupyter Notebooks, o desde la terminal de Anaconda:\n",
    "\n",
    "```cmd\n",
    "python -m notebook\n",
    "```\n",
    "\n",
    "Existe una versión más moderna de Jupyter notebooks denominada [JupyterLab](https://jupyterlab.readthedocs.io/en/stable/index.html) que puede instalarse como:\n",
    "\n",
    "```cmd\n",
    "conda install -c conda-forge jupyterlab\n",
    "```\n",
    "\n",
    "Una vez instalada, podemos correrla con\n",
    "```\n",
    "jupyter lab\n",
    "```\n",
    "desde una terminal de Anaconda.\n",
    "\n"
   ]
  },
  {
   "cell_type": "markdown",
   "id": "da844ad9",
   "metadata": {
    "collapsed": false,
    "ein.tags": "worksheet-0",
    "jupyter": {
     "outputs_hidden": false
    },
    "slideshow": {
     "slide_type": "-"
    }
   },
   "source": [
    "\n",
    "## Comandos de Jupyter (o IPython)\n",
    "\n",
    "### Comandos de Navegación\n",
    "\n",
    "Jupyter conoce varios de los comandos más comunes del sistema operativo. En Jupyter (o en la terminal de Python) estos comandos funcionan independientemente del sistema operativo (sí, incluso en windows, con algunos _detalles_). Estos se conocen con el nombre de **comandos mágicos** y comienzan con el signo porcentaje `%`. Para obtener una lista de los comandos usamos `%lsmagic`:"
   ]
  },
  {
   "cell_type": "code",
   "execution_count": 1,
   "id": "f2cd0f6d",
   "metadata": {
    "autoscroll": false,
    "collapsed": false,
    "ein.hycell": false,
    "ein.tags": "worksheet-0",
    "jupyter": {
     "outputs_hidden": false
    },
    "slideshow": {
     "slide_type": "-"
    }
   },
   "outputs": [
    {
     "data": {
      "application/json": {
       "cell": {
        "!": "OSMagics",
        "HTML": "Other",
        "SVG": "Other",
        "bash": "Other",
        "capture": "ExecutionMagics",
        "code_wrap": "ExecutionMagics",
        "debug": "ExecutionMagics",
        "file": "Other",
        "html": "DisplayMagics",
        "javascript": "DisplayMagics",
        "js": "DisplayMagics",
        "latex": "DisplayMagics",
        "markdown": "DisplayMagics",
        "perl": "Other",
        "prun": "ExecutionMagics",
        "pypy": "Other",
        "python": "Other",
        "python2": "Other",
        "python3": "Other",
        "ruby": "Other",
        "script": "ScriptMagics",
        "sh": "Other",
        "svg": "DisplayMagics",
        "sx": "OSMagics",
        "system": "OSMagics",
        "time": "ExecutionMagics",
        "timeit": "ExecutionMagics",
        "writefile": "OSMagics"
       },
       "line": {
        "alias": "OSMagics",
        "alias_magic": "BasicMagics",
        "autoawait": "AsyncMagics",
        "autocall": "AutoMagics",
        "automagic": "AutoMagics",
        "autosave": "KernelMagics",
        "bookmark": "OSMagics",
        "cat": "Other",
        "cd": "OSMagics",
        "clear": "KernelMagics",
        "code_wrap": "ExecutionMagics",
        "colors": "BasicMagics",
        "conda": "PackagingMagics",
        "config": "ConfigMagics",
        "connect_info": "KernelMagics",
        "cp": "Other",
        "debug": "ExecutionMagics",
        "dhist": "OSMagics",
        "dirs": "OSMagics",
        "doctest_mode": "BasicMagics",
        "ed": "Other",
        "edit": "KernelMagics",
        "env": "OSMagics",
        "gui": "BasicMagics",
        "hist": "Other",
        "history": "HistoryMagics",
        "killbgscripts": "ScriptMagics",
        "ldir": "Other",
        "less": "KernelMagics",
        "lf": "Other",
        "lk": "Other",
        "ll": "Other",
        "load": "CodeMagics",
        "load_ext": "ExtensionMagics",
        "loadpy": "CodeMagics",
        "logoff": "LoggingMagics",
        "logon": "LoggingMagics",
        "logstart": "LoggingMagics",
        "logstate": "LoggingMagics",
        "logstop": "LoggingMagics",
        "ls": "Other",
        "lsmagic": "BasicMagics",
        "lx": "Other",
        "macro": "ExecutionMagics",
        "magic": "BasicMagics",
        "mamba": "PackagingMagics",
        "man": "KernelMagics",
        "matplotlib": "PylabMagics",
        "micromamba": "PackagingMagics",
        "mkdir": "Other",
        "more": "KernelMagics",
        "mv": "Other",
        "notebook": "BasicMagics",
        "page": "BasicMagics",
        "pastebin": "CodeMagics",
        "pdb": "ExecutionMagics",
        "pdef": "NamespaceMagics",
        "pdoc": "NamespaceMagics",
        "pfile": "NamespaceMagics",
        "pinfo": "NamespaceMagics",
        "pinfo2": "NamespaceMagics",
        "pip": "PackagingMagics",
        "popd": "OSMagics",
        "pprint": "BasicMagics",
        "precision": "BasicMagics",
        "prun": "ExecutionMagics",
        "psearch": "NamespaceMagics",
        "psource": "NamespaceMagics",
        "pushd": "OSMagics",
        "pwd": "OSMagics",
        "pycat": "OSMagics",
        "pylab": "PylabMagics",
        "qtconsole": "KernelMagics",
        "quickref": "BasicMagics",
        "recall": "HistoryMagics",
        "rehashx": "OSMagics",
        "reload_ext": "ExtensionMagics",
        "rep": "Other",
        "rerun": "HistoryMagics",
        "reset": "NamespaceMagics",
        "reset_selective": "NamespaceMagics",
        "rm": "Other",
        "rmdir": "Other",
        "run": "ExecutionMagics",
        "save": "CodeMagics",
        "sc": "OSMagics",
        "set_env": "OSMagics",
        "store": "StoreMagics",
        "sx": "OSMagics",
        "system": "OSMagics",
        "tb": "ExecutionMagics",
        "time": "ExecutionMagics",
        "timeit": "ExecutionMagics",
        "unalias": "OSMagics",
        "unload_ext": "ExtensionMagics",
        "uv": "PackagingMagics",
        "who": "NamespaceMagics",
        "who_ls": "NamespaceMagics",
        "whos": "NamespaceMagics",
        "xdel": "NamespaceMagics",
        "xmode": "BasicMagics"
       }
      },
      "text/plain": [
       "Available line magics:\n",
       "%alias  %alias_magic  %autoawait  %autocall  %automagic  %autosave  %bookmark  %cat  %cd  %clear  %code_wrap  %colors  %conda  %config  %connect_info  %cp  %debug  %dhist  %dirs  %doctest_mode  %ed  %edit  %env  %gui  %hist  %history  %killbgscripts  %ldir  %less  %lf  %lk  %ll  %load  %load_ext  %loadpy  %logoff  %logon  %logstart  %logstate  %logstop  %ls  %lsmagic  %lx  %macro  %magic  %mamba  %man  %matplotlib  %micromamba  %mkdir  %more  %mv  %notebook  %page  %pastebin  %pdb  %pdef  %pdoc  %pfile  %pinfo  %pinfo2  %pip  %popd  %pprint  %precision  %prun  %psearch  %psource  %pushd  %pwd  %pycat  %pylab  %qtconsole  %quickref  %recall  %rehashx  %reload_ext  %rep  %rerun  %reset  %reset_selective  %rm  %rmdir  %run  %save  %sc  %set_env  %store  %sx  %system  %tb  %time  %timeit  %unalias  %unload_ext  %uv  %who  %who_ls  %whos  %xdel  %xmode\n",
       "\n",
       "Available cell magics:\n",
       "%%!  %%HTML  %%SVG  %%bash  %%capture  %%code_wrap  %%debug  %%file  %%html  %%javascript  %%js  %%latex  %%markdown  %%perl  %%prun  %%pypy  %%python  %%python2  %%python3  %%ruby  %%script  %%sh  %%svg  %%sx  %%system  %%time  %%timeit  %%writefile\n",
       "\n",
       "Automagic is ON, % prefix IS NOT needed for line magics."
      ]
     },
     "execution_count": 1,
     "metadata": {},
     "output_type": "execute_result"
    }
   ],
   "source": [
    "# Más util en IPhyton que en Jupyter\n",
    "%lsmagic"
   ]
  },
  {
   "cell_type": "code",
   "execution_count": 2,
   "id": "ebb1fc3f",
   "metadata": {
    "autoscroll": false,
    "collapsed": false,
    "ein.hycell": false,
    "ein.tags": "worksheet-0",
    "jupyter": {
     "outputs_hidden": false
    },
    "slideshow": {
     "slide_type": "-"
    }
   },
   "outputs": [],
   "source": [
    "%magic"
   ]
  },
  {
   "cell_type": "markdown",
   "id": "81844a3c",
   "metadata": {
    "collapsed": false,
    "ein.tags": "worksheet-0",
    "jupyter": {
     "outputs_hidden": false
    },
    "slideshow": {
     "slide_type": "-"
    }
   },
   "source": [
    "\n",
    "### Algunos de los comandos mágicos \n",
    "\n",
    "Algunos de los comandos mágicos más importantes son:\n",
    "\n",
    "* ``%cd`` *direct*     (Nos ubica en la carpeta direct)\n",
    "* ``%ls``              (muestra un listado del directorio)\n",
    "* ``%pwd``             (muestra el directorio donde estamos trabajando)\n",
    "* ``%run`` *filename*  (corre un dado programa)\n",
    "* ``%hist``            (muestra la historia de comandos utilizados)\n",
    "* ``%mkdir`` *dname*    (crea un directorio llamado dname)\n",
    "\n",
    "* Tab completion:\n",
    "\tApretando [TAB] completa los comandos o nombres de archivos."
   ]
  },
  {
   "cell_type": "markdown",
   "id": "11959481",
   "metadata": {
    "collapsed": false,
    "ein.tags": "worksheet-0",
    "jupyter": {
     "outputs_hidden": false
    },
    "slideshow": {
     "slide_type": "-"
    }
   },
   "source": [
    "\n",
    "En la consola de IPython tipee ``%cd ~`` (*i.e.* \"``%cd``\" -- \"espacio\" -- \"tilde\", y luego presione [RETURN]. Esto nos pone en el directorio HOME (default).\n",
    "\n",
    "Después tipee ``%pwd`` (<b>p</b>rint <b>w</b>orking <b>d</b>irectory) y presione [RETURN] para ver en qué directorio estamos:"
   ]
  },
  {
   "cell_type": "code",
   "execution_count": 3,
   "id": "8d555a7f",
   "metadata": {
    "collapsed": false,
    "jupyter": {
     "outputs_hidden": false
    }
   },
   "outputs": [
    {
     "data": {
      "text/plain": [
       "'/Users/flavioc/Codes/GitHub/programacion-avanzada/docs/clases/1'"
      ]
     },
     "execution_count": 3,
     "metadata": {},
     "output_type": "execute_result"
    }
   ],
   "source": [
    "%pwd"
   ]
  },
  {
   "cell_type": "code",
   "execution_count": 4,
   "id": "9c6641fc",
   "metadata": {
    "autoscroll": false,
    "collapsed": false,
    "ein.hycell": false,
    "ein.tags": "worksheet-0",
    "jupyter": {
     "outputs_hidden": false
    },
    "slideshow": {
     "slide_type": "-"
    }
   },
   "outputs": [
    {
     "name": "stdout",
     "output_type": "stream",
     "text": [
      "/Users/flavioc\n"
     ]
    }
   ],
   "source": [
    "%cd ~"
   ]
  },
  {
   "cell_type": "code",
   "execution_count": 5,
   "id": "64736713",
   "metadata": {
    "autoscroll": false,
    "collapsed": false,
    "ein.hycell": false,
    "ein.tags": "worksheet-0",
    "jupyter": {
     "outputs_hidden": false
    },
    "slideshow": {
     "slide_type": "-"
    }
   },
   "outputs": [
    {
     "data": {
      "text/plain": [
       "'/Users/flavioc'"
      ]
     },
     "execution_count": 5,
     "metadata": {},
     "output_type": "execute_result"
    }
   ],
   "source": [
    "%pwd"
   ]
  },
  {
   "cell_type": "markdown",
   "id": "27491471",
   "metadata": {
    "collapsed": false,
    "ein.tags": "worksheet-0",
    "jupyter": {
     "outputs_hidden": false
    },
    "slideshow": {
     "slide_type": "-"
    }
   },
   "source": [
    "En windows, el comando `pwd` va a dar algo así como:\n",
    "\n",
    "    In [3]: %pwd\n",
    "    Out[3]: C:\\\\Users\\\\usuario"
   ]
  },
  {
   "cell_type": "markdown",
   "id": "f4cbd353",
   "metadata": {
    "collapsed": false,
    "ein.tags": "worksheet-0",
    "jupyter": {
     "outputs_hidden": false
    },
    "slideshow": {
     "slide_type": "-"
    }
   },
   "source": [
    "Vamos a crear un directorio donde guardar ahora los programas de ejemplo que escribamos. Lo vamos a llamar ``scripts``.\n",
    "\n",
    "Primero vamos a ir al directorio que queremos, y crearlo. En mi caso lo voy a crear en mi HOME."
   ]
  },
  {
   "cell_type": "code",
   "execution_count": 6,
   "id": "ec2fc458",
   "metadata": {
    "autoscroll": false,
    "collapsed": false,
    "ein.hycell": false,
    "ein.tags": "worksheet-0",
    "jupyter": {
     "outputs_hidden": false
    },
    "slideshow": {
     "slide_type": "-"
    }
   },
   "outputs": [
    {
     "name": "stdout",
     "output_type": "stream",
     "text": [
      "/Users/flavioc\n"
     ]
    }
   ],
   "source": [
    "%cd "
   ]
  },
  {
   "cell_type": "code",
   "execution_count": 7,
   "id": "ab97f02d",
   "metadata": {
    "autoscroll": false,
    "collapsed": false,
    "ein.hycell": false,
    "ein.tags": "worksheet-0",
    "jupyter": {
     "outputs_hidden": false
    },
    "scrolled": true,
    "slideshow": {
     "slide_type": "-"
    }
   },
   "outputs": [
    {
     "name": "stdout",
     "output_type": "stream",
     "text": [
      "mkdir: scripts: File exists\r\n"
     ]
    }
   ],
   "source": [
    "%mkdir scripts"
   ]
  },
  {
   "cell_type": "code",
   "execution_count": 8,
   "id": "8732d0b1",
   "metadata": {
    "autoscroll": false,
    "collapsed": false,
    "ein.hycell": false,
    "ein.tags": "worksheet-0",
    "jupyter": {
     "outputs_hidden": false
    },
    "slideshow": {
     "slide_type": "-"
    }
   },
   "outputs": [
    {
     "name": "stdout",
     "output_type": "stream",
     "text": [
      "/Users/flavioc/scripts\n"
     ]
    }
   ],
   "source": [
    "%cd scripts"
   ]
  },
  {
   "cell_type": "code",
   "execution_count": 9,
   "id": "08e4e636",
   "metadata": {
    "autoscroll": false,
    "collapsed": false,
    "ein.hycell": false,
    "ein.tags": "worksheet-0",
    "jupyter": {
     "outputs_hidden": false
    },
    "slideshow": {
     "slide_type": "-"
    }
   },
   "outputs": [
    {
     "name": "stdout",
     "output_type": "stream",
     "text": [
      "# Más util en IPhyton que en Jupyter\n",
      "%lsmagic\n",
      "%magic\n",
      "%pwd\n",
      "%cd ~\n",
      "%pwd\n",
      "%cd\n",
      "%mkdir scripts\n",
      "%cd scripts\n",
      "%hist\n"
     ]
    }
   ],
   "source": [
    "%hist"
   ]
  },
  {
   "cell_type": "markdown",
   "id": "e2779fa2",
   "metadata": {
    "collapsed": false,
    "ein.tags": "worksheet-0",
    "jupyter": {
     "outputs_hidden": false
    },
    "slideshow": {
     "slide_type": "-"
    }
   },
   "source": [
    "\n",
    "Hay varios otros comandos mágicos en IPython. Para leer información sobre el sistema de comandos mágicos utilice:"
   ]
  },
  {
   "cell_type": "markdown",
   "id": "748878f5",
   "metadata": {
    "collapsed": false,
    "ein.tags": "worksheet-0",
    "jupyter": {
     "outputs_hidden": false
    },
    "slideshow": {
     "slide_type": "-"
    }
   },
   "source": [
    "Finalmente, para obtener un resumen de comandos con una explicación breve, utilice:"
   ]
  },
  {
   "cell_type": "code",
   "execution_count": 10,
   "id": "72bb7258",
   "metadata": {
    "autoscroll": false,
    "collapsed": false,
    "ein.hycell": false,
    "ein.tags": "worksheet-0",
    "jupyter": {
     "outputs_hidden": false
    },
    "slideshow": {
     "slide_type": "-"
    }
   },
   "outputs": [],
   "source": [
    "%quickref"
   ]
  },
  {
   "cell_type": "markdown",
   "id": "0f6c9db4",
   "metadata": {
    "collapsed": false,
    "ein.tags": "worksheet-0",
    "jupyter": {
     "outputs_hidden": false
    },
    "slideshow": {
     "slide_type": "-"
    }
   },
   "source": [
    "### Comandos de Shell\n",
    "\n",
    "Se pueden correr comandos del sistema operativo tipeando ``!`` seguido por el comando que se quiere ejecutar. Por ejemplo:"
   ]
  },
  {
   "cell_type": "code",
   "execution_count": 11,
   "id": "2d1cd19f",
   "metadata": {},
   "outputs": [
    {
     "name": "stdout",
     "output_type": "stream",
     "text": [
      "zsh:1: command not found: dir\r\n"
     ]
    }
   ],
   "source": [
    "# En Linux\n",
    "# !ls\n",
    "# En Windows\n",
    "!dir"
   ]
  },
  {
   "cell_type": "markdown",
   "id": "cf109337",
   "metadata": {},
   "source": [
    "Vamos a escribir un programa de Python con comandos:"
   ]
  },
  {
   "cell_type": "code",
   "execution_count": 12,
   "id": "24ec905d",
   "metadata": {
    "autoscroll": false,
    "collapsed": false,
    "ein.hycell": false,
    "ein.tags": "worksheet-0",
    "jupyter": {
     "outputs_hidden": false
    },
    "slideshow": {
     "slide_type": "-"
    }
   },
   "outputs": [],
   "source": [
    "!echo \"1+2\" >> prog1.py"
   ]
  },
  {
   "cell_type": "code",
   "execution_count": 13,
   "id": "162a0b67",
   "metadata": {
    "autoscroll": false,
    "collapsed": false,
    "ein.hycell": false,
    "ein.tags": "worksheet-0",
    "jupyter": {
     "outputs_hidden": false
    },
    "slideshow": {
     "slide_type": "-"
    }
   },
   "outputs": [],
   "source": [
    "!echo \"print('hola otra vez')\" >> prog1.py"
   ]
  },
  {
   "cell_type": "markdown",
   "id": "22914d88",
   "metadata": {},
   "source": [
    "> Notar que en Windows, el comando no requiere las comillas (\"):\n",
    "> ```\n",
    "> !echo 1+2 >> prog1.py\n",
    "> !echo print('hola otra vez') >> prog1.py\n",
    "> ```"
   ]
  },
  {
   "cell_type": "code",
   "execution_count": 14,
   "id": "0868b3bc",
   "metadata": {},
   "outputs": [
    {
     "name": "stdout",
     "output_type": "stream",
     "text": [
      "zsh:1: unknown file attribute: h\r\n"
     ]
    }
   ],
   "source": [
    "# En Windows\n",
    "!echo 1+2 >> prog1.py\n",
    "!echo print('hola otra vez') >> prog1.py"
   ]
  },
  {
   "cell_type": "code",
   "execution_count": 15,
   "id": "680c3084",
   "metadata": {
    "autoscroll": false,
    "collapsed": false,
    "ein.hycell": false,
    "ein.tags": "worksheet-0",
    "jupyter": {
     "outputs_hidden": false
    },
    "slideshow": {
     "slide_type": "-"
    }
   },
   "outputs": [
    {
     "name": "stdout",
     "output_type": "stream",
     "text": [
      "1+2\r\n",
      "print('hola otra vez')\r\n",
      "1+2\r\n",
      "1+2\r\n",
      "print('hola otra vez')\r\n",
      "1+2\r\n",
      "1+2\r\n",
      "print('hola otra vez')\r\n",
      "1+2\r\n"
     ]
    }
   ],
   "source": [
    "%cat prog1.py"
   ]
  },
  {
   "cell_type": "markdown",
   "id": "05420f84",
   "metadata": {},
   "source": [
    "> En windows `%cat` no está implementado, así que se debe usar directamente el comando de la terminal `!type`"
   ]
  },
  {
   "cell_type": "code",
   "execution_count": 16,
   "id": "30ce0a98",
   "metadata": {},
   "outputs": [
    {
     "name": "stdout",
     "output_type": "stream",
     "text": [
      "prog1.py not found\r\n"
     ]
    }
   ],
   "source": [
    "!type prog1.py"
   ]
  },
  {
   "cell_type": "code",
   "execution_count": 17,
   "id": "70becfd9",
   "metadata": {
    "autoscroll": false,
    "collapsed": false,
    "ein.hycell": false,
    "ein.tags": "worksheet-0",
    "jupyter": {
     "outputs_hidden": false
    },
    "slideshow": {
     "slide_type": "-"
    }
   },
   "outputs": [
    {
     "name": "stdout",
     "output_type": "stream",
     "text": [
      "hola otra vez\n",
      "hola otra vez\n",
      "hola otra vez\n"
     ]
    }
   ],
   "source": [
    "%run prog1.py"
   ]
  },
  {
   "cell_type": "code",
   "execution_count": 18,
   "id": "1bcda133",
   "metadata": {
    "autoscroll": false,
    "collapsed": false,
    "ein.hycell": false,
    "ein.tags": "worksheet-0",
    "jupyter": {
     "outputs_hidden": false
    },
    "slideshow": {
     "slide_type": "-"
    }
   },
   "outputs": [
    {
     "name": "stdout",
     "output_type": "stream",
     "text": [
      "Thu Mar 13 16:03:40 -03 2025\r\n"
     ]
    }
   ],
   "source": [
    "!date"
   ]
  },
  {
   "cell_type": "markdown",
   "id": "587d134e",
   "metadata": {},
   "source": [
    "> En windows, `!date` imprime la fecha y hora, pero espera una nueva fecha, con lo cual la ejecución del comando terminará cuando uno detenga la ejecución de la celda"
   ]
  },
  {
   "cell_type": "markdown",
   "id": "75129a9b",
   "metadata": {
    "collapsed": false,
    "editable": true,
    "ein.tags": "worksheet-0",
    "jupyter": {
     "outputs_hidden": false
    },
    "slideshow": {
     "slide_type": ""
    },
    "tags": []
   },
   "source": [
    "--------\n",
    "\n",
    "## Ejercicios 01 (a)\n",
    " \n",
    "1. Abra una terminal (consola) o notebook y utilícela como una calculadora para realizar las siguientes acciones:\n",
    "     - Suponiendo que, de las tres horas de clases, dedicamos dos períodos de media hora para que realicen ejercicios (de Python), dedicamos diez minutos a distraernos en un recreo, y el resto a la exposición 'teórica', calcular cuántos minutos efectivos de trabajo tendremos en las 13 clases. \n",
    "     - Calcule el porcentaje de horas del curso efectivamente dedicadas al trabajo.\n",
    "     - ¿Cómo se modifica el porcentaje anterior si incluimos el examen final?\n",
    "     - Para la cantidad de alumnos presentes en el aula: ¿cuántas horas-persona de trabajo hay involucradas en este curso?\n",
    "\n",
    "2. Muestre en la consola de Ipython (o usando Jupyter Notebooks):\n",
    "     - el nombre de su directorio actual\n",
    "     - los archivos en su directorio actual\n",
    "     - Cree un subdirectorio llamado `tmp`\n",
    "     - si está usando Linux, muestre la fecha y hora\n",
    "     - Borre el subdirectorio `tmp`\n",
    "\n",
    "3. Sabiendo que la velocidad de la luz es aproximadamente 300000 km/s y que un año luz se define como la distancia que recorre la luz en un año, usando la terminal de python o la notebook:\n",
    "\n",
    "  - calcule cuántos kilómetros son nueve meses-luz,\n",
    "\n",
    "  - considerando que la luz del sol tarda ocho minutos en llegar a la tierra, calcule a cuántos metros de la tierra está el sol.\n",
    "\n",
    "--------\n"
   ]
  }
 ],
 "metadata": {
  "kernelspec": {
   "display_name": "base",
   "language": "python",
   "name": "python3"
  },
  "language_info": {
   "codemirror_mode": {
    "name": "ipython",
    "version": 3
   },
   "file_extension": ".py",
   "mimetype": "text/x-python",
   "name": "python",
   "nbconvert_exporter": "python",
   "pygments_lexer": "ipython3",
   "version": "3.11.5"
  },
  "name": "01_1_instala_y_uso.ipynb",
  "toc": {
   "base_numbering": 1,
   "nav_menu": {
    "height": "265.367px",
    "width": "252px"
   },
   "number_sections": true,
   "sideBar": true,
   "skip_h1_title": false,
   "title_cell": "Contenidos",
   "title_sidebar": "Contenidos",
   "toc_cell": false,
   "toc_position": {
    "height": "calc(100% - 180px)",
    "left": "10px",
    "top": "150px",
    "width": "224.9px"
   },
   "toc_section_display": true,
   "toc_window_display": true
  }
 },
 "nbformat": 4,
 "nbformat_minor": 5
}