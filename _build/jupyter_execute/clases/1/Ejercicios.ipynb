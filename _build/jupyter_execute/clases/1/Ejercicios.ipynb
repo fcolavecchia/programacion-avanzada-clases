{
 "cells": [
  {
   "attachments": {},
   "cell_type": "markdown",
   "id": "58d7c396-8a15-40a6-85f6-8958ee9a17bc",
   "metadata": {},
   "source": [
    "## Ejercicios 01\n",
    " \n",
    "1. Abra una terminal (consola) o notebook y utilícela como una calculadora para realizar las siguientes acciones:\n",
    "     - Suponiendo que, de las tres horas de clases, dedicamos dos períodos de media hora para que realicen ejercicios (de Python), dedicamos diez minutos a distraernos en un recreo, y el resto a la exposición 'teórica', calcular cuántos minutos efectivos de trabajo tendremos en las 13 clases. \n",
    "     - Calcule el porcentaje de horas del curso efectivamente dedicadas al trabajo.\n",
    "     - ¿Cómo se modifica el porcentaje anterior si incluimos el examen final?\n",
    "     - Para la cantidad de alumnos presentes en el aula: ¿cuántas horas-persona de trabajo hay involucradas en este curso?\n",
    "\n",
    "2. Muestre en la consola de Ipython (o usando Jupyter Notebooks):\n",
    "     - el nombre de su directorio actual\n",
    "     - los archivos en su directorio actual\n",
    "     - Cree un subdirectorio llamado `tmp`\n",
    "     - si está usando Linux, muestre la fecha y hora\n",
    "     - Borre el subdirectorio `tmp`\n",
    "\n",
    "3. Sabiendo que la velocidad de la luz es aproximadamente 300000 km/s y que un año luz se define como la distancia que recorre la luz en un año, usando la terminal de python o la notebook:\n",
    "\n",
    "  - calcule cuántos kilómetros son nueve meses-luz,\n",
    "\n",
    "  - considerando que la luz del sol tarda ocho minutos en llegar a la tierra, calcule a cuántos metros de la tierra está el sol.\n",
    "\n",
    "4.  Para cubos de lados de longitud L = 1, 3, y 5: calcule su superficie y su volumen.\n",
    "\n",
    "5.  Para esferas de radios r = 1, 3, 5 y 8, calcule su superficie y su volumen.\n",
    "\n",
    "6.  Fíjese si alguno de los valores: $x_1=0.49$, $x_2=0.50$, $x_3=0.51$ es un cero de la función $f(x)=x^{2} + x/2 - 1/2$, esto es $f(x_i)=0$ para $i=1,2$ o $3$ .\n",
    "\n",
    "6. Para el número complejo $z= 1 + 0.5\\ i$\n",
    "    * Calcular $z^2$ y $z^5$.\n",
    "    * Calcular los complejos conjugados de $z$ y $z^3$.\n",
    "    * Escribir un programa que escriba las frases:\n",
    "       - \"El conjugado de z=1+0.5i es 1-0.5j\"\n",
    "       - \"El conjugado de z=(1+0.5i)^2 es ...\" (con el valor correspondiente)\n"
   ]
  }
 ],
 "metadata": {
  "kernelspec": {
   "display_name": "Python 3 (ipykernel)",
   "language": "python",
   "name": "python3"
  },
  "language_info": {
   "codemirror_mode": {
    "name": "ipython",
    "version": 3
   },
   "file_extension": ".py",
   "mimetype": "text/x-python",
   "name": "python",
   "nbconvert_exporter": "python",
   "pygments_lexer": "ipython3",
   "version": "3.11.5"
  }
 },
 "nbformat": 4,
 "nbformat_minor": 5
}